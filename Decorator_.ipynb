{
  "cells": [
    {
      "cell_type": "code",
      "source": [
        "def hello():\n",
        "  print(\"this is the start of my fun\")\n",
        "  print(\"helo i am sunil\")\n",
        "  print(\"this is the end of my fun\")\n",
        "hello()"
      ],
      "metadata": {
        "colab": {
          "base_uri": "https://localhost:8080/"
        },
        "id": "mwpl2ANO5MBP",
        "outputId": "d9d253a8-0ca7-4c04-fce7-e06be5c9ccdb"
      },
      "id": "mwpl2ANO5MBP",
      "execution_count": null,
      "outputs": [
        {
          "output_type": "stream",
          "name": "stdout",
          "text": [
            "this is the start of my fun\n",
            "helo i am sunil\n",
            "this is the end of my fun\n"
          ]
        }
      ]
    },
    {
      "cell_type": "code",
      "execution_count": null,
      "id": "aef50e7c-4753-4eaa-bfbc-0380658efbe6",
      "metadata": {
        "id": "aef50e7c-4753-4eaa-bfbc-0380658efbe6"
      },
      "outputs": [],
      "source": [
        "def test():\n",
        "    print(\"this is the start of my fun\")\n",
        "    print(\"this is my fun to test\")\n",
        "    print(4+5)\n",
        "    print(\"this is the end of my fun\")"
      ]
    },
    {
      "cell_type": "code",
      "execution_count": null,
      "id": "5c41c5c9-d696-4192-9a7d-052c99958cff",
      "metadata": {
        "id": "5c41c5c9-d696-4192-9a7d-052c99958cff",
        "outputId": "80cd865d-195b-4708-b608-2eee103d3a9d",
        "colab": {
          "base_uri": "https://localhost:8080/"
        }
      },
      "outputs": [
        {
          "output_type": "stream",
          "name": "stdout",
          "text": [
            "this is the start of my fun\n",
            "this is my fun to test\n",
            "9\n",
            "this is the end of my fun\n"
          ]
        }
      ],
      "source": [
        "test()"
      ]
    },
    {
      "cell_type": "code",
      "source": [],
      "metadata": {
        "id": "NQ_j0MyB6DTo"
      },
      "id": "NQ_j0MyB6DTo",
      "execution_count": null,
      "outputs": []
    },
    {
      "cell_type": "code",
      "source": [],
      "metadata": {
        "id": "21hPijG56DdS"
      },
      "id": "21hPijG56DdS",
      "execution_count": null,
      "outputs": []
    },
    {
      "cell_type": "code",
      "execution_count": null,
      "id": "d53f622b-1271-4950-abef-084c554c77fe",
      "metadata": {
        "colab": {
          "base_uri": "https://localhost:8080/"
        },
        "id": "d53f622b-1271-4950-abef-084c554c77fe",
        "outputId": "87bb7318-90f4-475b-9531-bca5997f580f"
      },
      "outputs": [
        {
          "output_type": "stream",
          "name": "stdout",
          "text": [
            "this is the start of my fun\n",
            "13\n",
            "this is the end of my fun\n"
          ]
        }
      ],
      "source": [
        "def deco(func):\n",
        "    def inner_dec():\n",
        "        print(\"this is the start of my fun\")\n",
        "        func()\n",
        "        print(\"this is the end of my fun\")\n",
        "    return inner_dec\n",
        "@deco\n",
        "def test1():\n",
        "    print(6+7)\n",
        "test1()"
      ]
    },
    {
      "cell_type": "code",
      "source": [
        "@deco\n",
        "def rishav():\n",
        "  print(\"i am rishab\")\n",
        "rishav()"
      ],
      "metadata": {
        "colab": {
          "base_uri": "https://localhost:8080/"
        },
        "id": "wrgyEPWL7uFt",
        "outputId": "0259f9b3-0e0b-494c-aa10-af95e2c23fa9"
      },
      "id": "wrgyEPWL7uFt",
      "execution_count": null,
      "outputs": [
        {
          "output_type": "stream",
          "name": "stdout",
          "text": [
            "this is the start of my fun\n",
            "i am rishab\n",
            "this is the end of my fun\n"
          ]
        }
      ]
    },
    {
      "cell_type": "code",
      "source": [
        "def deco(a):\n",
        "    def inner_dec():\n",
        "        print(\"this is the start of my fun\")\n",
        "        print(a)\n",
        "        print(\"this is the end of my fun\")\n",
        "    return inner_dec\n",
        "deco(5)"
      ],
      "metadata": {
        "colab": {
          "base_uri": "https://localhost:8080/"
        },
        "id": "-m_Et4jiXgAe",
        "outputId": "5761dae4-5be1-46c4-f58c-228bf8722eab"
      },
      "id": "-m_Et4jiXgAe",
      "execution_count": null,
      "outputs": [
        {
          "output_type": "execute_result",
          "data": {
            "text/plain": [
              "<function __main__.deco.<locals>.inner_dec()>"
            ]
          },
          "metadata": {},
          "execution_count": 8
        }
      ]
    },
    {
      "cell_type": "code",
      "execution_count": null,
      "id": "73ae838c-6662-47b4-b1ef-f0a3edec8d6b",
      "metadata": {
        "id": "73ae838c-6662-47b4-b1ef-f0a3edec8d6b"
      },
      "outputs": [],
      "source": [
        "# @deco\n",
        "def test1():\n",
        "    print(6+7)"
      ]
    },
    {
      "cell_type": "code",
      "execution_count": null,
      "id": "7037a09f-f12a-4712-98c2-1aeaa5bb61dd",
      "metadata": {
        "id": "7037a09f-f12a-4712-98c2-1aeaa5bb61dd",
        "outputId": "7e093cfc-82bd-451b-a06b-c033876c0a7c"
      },
      "outputs": [
        {
          "name": "stdout",
          "output_type": "stream",
          "text": [
            "this is the start of my fun\n",
            "13\n",
            "this is the end of my fun\n"
          ]
        }
      ],
      "source": [
        "test1()"
      ]
    },
    {
      "cell_type": "code",
      "execution_count": null,
      "id": "69d98c46-42cb-4f31-9f74-4a6f13856411",
      "metadata": {
        "id": "69d98c46-42cb-4f31-9f74-4a6f13856411"
      },
      "outputs": [],
      "source": [
        "import time\n",
        "\n",
        "def timer_test(func):\n",
        "    def timer_test_inner ():\n",
        "        start = time.time()\n",
        "        func()\n",
        "        end = time.time()\n",
        "        print(end -start)\n",
        "    return timer_test_inner\n",
        "\n"
      ]
    },
    {
      "cell_type": "code",
      "execution_count": null,
      "id": "b524a58f-57b1-4508-973d-c353e2f88b1c",
      "metadata": {
        "id": "b524a58f-57b1-4508-973d-c353e2f88b1c"
      },
      "outputs": [],
      "source": [
        "def test2():\n",
        "    print(45+78)"
      ]
    },
    {
      "cell_type": "code",
      "execution_count": null,
      "id": "1b5ed921-bfc2-4a06-a5d4-e84e3ed077d3",
      "metadata": {
        "id": "1b5ed921-bfc2-4a06-a5d4-e84e3ed077d3",
        "outputId": "dc6941e6-393a-467a-b769-6907ead5d7c2",
        "colab": {
          "base_uri": "https://localhost:8080/"
        }
      },
      "outputs": [
        {
          "output_type": "stream",
          "name": "stdout",
          "text": [
            "123\n"
          ]
        }
      ],
      "source": [
        "test2()"
      ]
    },
    {
      "cell_type": "code",
      "execution_count": null,
      "id": "2ca1ac4d-e886-479b-a4ef-36c2b48329ea",
      "metadata": {
        "id": "2ca1ac4d-e886-479b-a4ef-36c2b48329ea"
      },
      "outputs": [],
      "source": [
        "@timer_test\n",
        "def test2():\n",
        "    print(45+78)"
      ]
    },
    {
      "cell_type": "code",
      "execution_count": null,
      "id": "65821688-280c-4971-a6d9-e8aa325fefc6",
      "metadata": {
        "id": "65821688-280c-4971-a6d9-e8aa325fefc6",
        "outputId": "01559d58-ccd7-48f5-f919-a0fecb1d7043",
        "colab": {
          "base_uri": "https://localhost:8080/"
        }
      },
      "outputs": [
        {
          "output_type": "stream",
          "name": "stdout",
          "text": [
            "123\n",
            "0.0008025169372558594\n"
          ]
        }
      ],
      "source": [
        "test2()"
      ]
    },
    {
      "cell_type": "code",
      "execution_count": null,
      "id": "c0fab126-8ba3-4395-b7bb-731f5c3ccfa9",
      "metadata": {
        "id": "c0fab126-8ba3-4395-b7bb-731f5c3ccfa9"
      },
      "outputs": [],
      "source": [
        "@timer_test\n",
        "def test():\n",
        "    for i in range(100000000):\n",
        "        pass"
      ]
    },
    {
      "cell_type": "code",
      "execution_count": null,
      "id": "b20cfcdc-b7fe-4c6e-a95d-809c891f88cf",
      "metadata": {
        "id": "b20cfcdc-b7fe-4c6e-a95d-809c891f88cf",
        "outputId": "71695bc7-0d9f-485a-c99f-15373bc60763",
        "colab": {
          "base_uri": "https://localhost:8080/"
        }
      },
      "outputs": [
        {
          "output_type": "stream",
          "name": "stdout",
          "text": [
            "4.209544897079468\n"
          ]
        }
      ],
      "source": [
        "test()"
      ]
    },
    {
      "cell_type": "code",
      "execution_count": null,
      "id": "766e9484-34f0-4391-9b28-b373f85321f7",
      "metadata": {
        "colab": {
          "base_uri": "https://localhost:8080/"
        },
        "id": "766e9484-34f0-4391-9b28-b373f85321f7",
        "outputId": "e864b98e-0c86-483f-9c17-a09808d0800b"
      },
      "outputs": [
        {
          "output_type": "stream",
          "name": "stdout",
          "text": [
            "Something is happening before the function is called.\n",
            "Hello!\n",
            "Something is happening after the function is called.\n"
          ]
        }
      ],
      "source": [
        "# Define a decorator function\n",
        "def my_decorator(func):\n",
        "    def wrapper():\n",
        "        print(\"Something is happening before the function is called.\")\n",
        "        func()\n",
        "        print(\"Something is happening after the function is called.\")\n",
        "    return wrapper\n",
        "\n",
        "# Applying the decorator to a function using the \"@\" symbol\n",
        "@my_decorator\n",
        "def say_hello():\n",
        "    print(\"Hello!\")\n",
        "\n",
        "# Calling the decorated function\n",
        "say_hello()\n"
      ]
    },
    {
      "cell_type": "code",
      "source": [
        "def deco(func):\n",
        "    def inner_dec():\n",
        "        print(\"this is the start of my fun\")\n",
        "        func(x,y)\n",
        "        print(\"this is the end of my fun\")\n",
        "    return inner_dec\n",
        "@deco\n",
        "def test1(x,y):\n",
        "    print(x+y)\n",
        "test1(6,7)"
      ],
      "metadata": {
        "id": "xE3T-4Yfc5ha",
        "colab": {
          "base_uri": "https://localhost:8080/",
          "height": 210
        },
        "outputId": "a78c9b5d-38f3-483c-f939-9ceae50c7384"
      },
      "id": "xE3T-4Yfc5ha",
      "execution_count": null,
      "outputs": [
        {
          "output_type": "error",
          "ename": "TypeError",
          "evalue": "deco.<locals>.inner_dec() takes 0 positional arguments but 2 were given",
          "traceback": [
            "\u001b[0;31m---------------------------------------------------------------------------\u001b[0m",
            "\u001b[0;31mTypeError\u001b[0m                                 Traceback (most recent call last)",
            "\u001b[0;32m<ipython-input-1-a9d15bbf539e>\u001b[0m in \u001b[0;36m<cell line: 10>\u001b[0;34m()\u001b[0m\n\u001b[1;32m      8\u001b[0m \u001b[0;32mdef\u001b[0m \u001b[0mtest1\u001b[0m\u001b[0;34m(\u001b[0m\u001b[0mx\u001b[0m\u001b[0;34m,\u001b[0m\u001b[0my\u001b[0m\u001b[0;34m)\u001b[0m\u001b[0;34m:\u001b[0m\u001b[0;34m\u001b[0m\u001b[0;34m\u001b[0m\u001b[0m\n\u001b[1;32m      9\u001b[0m     \u001b[0mprint\u001b[0m\u001b[0;34m(\u001b[0m\u001b[0mx\u001b[0m\u001b[0;34m+\u001b[0m\u001b[0my\u001b[0m\u001b[0;34m)\u001b[0m\u001b[0;34m\u001b[0m\u001b[0;34m\u001b[0m\u001b[0m\n\u001b[0;32m---> 10\u001b[0;31m \u001b[0mtest1\u001b[0m\u001b[0;34m(\u001b[0m\u001b[0;36m6\u001b[0m\u001b[0;34m,\u001b[0m\u001b[0;36m7\u001b[0m\u001b[0;34m)\u001b[0m\u001b[0;34m\u001b[0m\u001b[0;34m\u001b[0m\u001b[0m\n\u001b[0m",
            "\u001b[0;31mTypeError\u001b[0m: deco.<locals>.inner_dec() takes 0 positional arguments but 2 were given"
          ]
        }
      ]
    },
    {
      "cell_type": "code",
      "source": [
        "def my_decorator(func):\n",
        "    def wrapper(x, y):  # Accept arguments here\n",
        "        print(\".............................\")\n",
        "        func(x, y)\n",
        "        print(\".............................\")\n",
        "    return wrapper\n",
        "\n",
        "@my_decorator\n",
        "def sum(x, y):\n",
        "    z=x+y\n",
        "    print(z)\n",
        "\n",
        "sum(6, 7)\n"
      ],
      "metadata": {
        "colab": {
          "base_uri": "https://localhost:8080/"
        },
        "id": "itmq6FPe0fkN",
        "outputId": "0232aeee-6d4e-48a4-8084-6ff6d4ed450a"
      },
      "id": "itmq6FPe0fkN",
      "execution_count": null,
      "outputs": [
        {
          "output_type": "stream",
          "name": "stdout",
          "text": [
            ".............................\n",
            "13\n",
            ".............................\n"
          ]
        }
      ]
    },
    {
      "cell_type": "code",
      "source": [],
      "metadata": {
        "id": "8grdfX-uzxOd"
      },
      "id": "8grdfX-uzxOd",
      "execution_count": null,
      "outputs": []
    }
  ],
  "metadata": {
    "kernelspec": {
      "display_name": "Python 3 (ipykernel)",
      "language": "python",
      "name": "python3"
    },
    "language_info": {
      "codemirror_mode": {
        "name": "ipython",
        "version": 3
      },
      "file_extension": ".py",
      "mimetype": "text/x-python",
      "name": "python",
      "nbconvert_exporter": "python",
      "pygments_lexer": "ipython3",
      "version": "3.10.8"
    },
    "colab": {
      "provenance": []
    }
  },
  "nbformat": 4,
  "nbformat_minor": 5
}